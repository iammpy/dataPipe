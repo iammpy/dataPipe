{
 "cells": [
  {
   "cell_type": "code",
   "execution_count": null,
   "id": "edc2e681",
   "metadata": {},
   "outputs": [
    {
     "name": "stdout",
     "output_type": "stream",
     "text": [
      "Current working directory: /u01/mengpengyu/dataPipe\n",
      "Absolute path of current directory: /u01/mengpengyu/dataPipe\n"
     ]
    }
   ],
   "source": [
    "import os\n",
    "\n",
    "\n",
    "if \"__file__\" in globals():\n",
    "    os.chdir(os.path.join(os.path.abspath(__file__)))   \n",
    "print(\"Current working directory:\", os.getcwd())\n",
    "print(\"Absolute path of current directory:\", os.path.abspath('.'))"
   ]
  },
  {
   "cell_type": "code",
   "execution_count": null,
   "id": "e9d80f3c",
   "metadata": {},
   "outputs": [],
   "source": []
  }
 ],
 "metadata": {
  "kernelspec": {
   "display_name": "d2l",
   "language": "python",
   "name": "python3"
  },
  "language_info": {
   "codemirror_mode": {
    "name": "ipython",
    "version": 3
   },
   "file_extension": ".py",
   "mimetype": "text/x-python",
   "name": "python",
   "nbconvert_exporter": "python",
   "pygments_lexer": "ipython3",
   "version": "3.10.16"
  }
 },
 "nbformat": 4,
 "nbformat_minor": 5
}
