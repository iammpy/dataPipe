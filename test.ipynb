{
 "cells": [
  {
   "cell_type": "code",
   "execution_count": 7,
   "id": "edc2e681",
   "metadata": {},
   "outputs": [
    {
     "name": "stdout",
     "output_type": "stream",
     "text": [
      "翻译结果: 生存还是毁灭，这是一个问题。\n",
      "判断成功：这可能是一句关于哈姆雷特的翻译。\n"
     ]
    }
   ],
   "source": [
    "# 1. 安装库: pip install -U deep-translator\n",
    "\n",
    "from deep_translator import BaiduTranslator\n",
    "\n",
    "# 无需 API Key 即可使用\n",
    "text_to_translate = \"To be, or not to be, that is the question.\"\n",
    "\n",
    "# 创建翻译器并进行翻译\n",
    "translated_text = BaiduTranslator(source='en', \n",
    "                                  target='zh',\n",
    "                                  appid=\"20200702000511635\",\n",
    "                                  appkey='QkuPegRc_zjsNH0Ytn52'\n",
    "                                  ).translate(text_to_translate)\n",
    "\n",
    "print(f\"翻译结果: {translated_text}\")\n",
    "\n",
    "# 进行判断\n",
    "if \"生存\" in translated_text or \"毁灭\" in translated_text:\n",
    "    print(\"判断成功：这可能是一句关于哈姆雷特的翻译。\")\n"
   ]
  }
 ],
 "metadata": {
  "kernelspec": {
   "display_name": "d2l",
   "language": "python",
   "name": "python3"
  },
  "language_info": {
   "codemirror_mode": {
    "name": "ipython",
    "version": 3
   },
   "file_extension": ".py",
   "mimetype": "text/x-python",
   "name": "python",
   "nbconvert_exporter": "python",
   "pygments_lexer": "ipython3",
   "version": "3.10.16"
  }
 },
 "nbformat": 4,
 "nbformat_minor": 5
}
