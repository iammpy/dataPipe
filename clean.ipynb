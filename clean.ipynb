{
 "cells": [
  {
   "cell_type": "code",
   "execution_count": null,
   "id": "36685eea",
   "metadata": {},
   "outputs": [
    {
     "name": "stdout",
     "output_type": "stream",
     "text": [
      "Running in file: /u01/mengpengyu/dataPipe\n",
      "Data path: /u01/mengpengyu/dataPipe/data/MatSciInstruct.json\n",
      "None data path: /u01/mengpengyu/dataPipe/data/MatSciInstruct_none.json\n"
     ]
    }
   ],
   "source": [
    "import json5\n",
    "import os\n",
    "if \"__file__\" not in globals():\n",
    "    __file__ = os.path.abspath(\".\")\n",
    "print(\"Running in file:\", __file__)\n",
    "none_data_path=os.path.join(__file__, 'data','MatSciInstruct_none.json')\n",
    "data_path=os.path.join(__file__,'data', 'MatSciInstruct.json')\n",
    "print(\"Data path:\", data_path)\n",
    "print(\"None data path:\", none_data_path)\n",
    "with open(data_path, 'r') as f:\n",
    "    # Load the JSON5 data from the file\n",
    "    data= json5.load(f)\n",
    "with open(none_data_path, 'r') as f:\n",
    "    # Load the JSON5 data from the file\n",
    "    none_data= json5.load(f)\n",
    "\n",
    "print(\"Total number of data points:\", len(data))\n",
    "print(\"Total number of data points with None in 'answer':\", len(none_data))"
   ]
  }
 ],
 "metadata": {
  "kernelspec": {
   "display_name": "d2l",
   "language": "python",
   "name": "python3"
  },
  "language_info": {
   "codemirror_mode": {
    "name": "ipython",
    "version": 3
   },
   "file_extension": ".py",
   "mimetype": "text/x-python",
   "name": "python",
   "nbconvert_exporter": "python",
   "pygments_lexer": "ipython3",
   "version": "3.10.16"
  }
 },
 "nbformat": 4,
 "nbformat_minor": 5
}
