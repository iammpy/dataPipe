{
 "cells": [
  {
   "cell_type": "code",
   "execution_count": 2,
   "id": "36685eea",
   "metadata": {},
   "outputs": [
    {
     "name": "stdout",
     "output_type": "stream",
     "text": [
      "Running in file: /u01/mengpengyu/dataPipe\n",
      "Data path: /u01/mengpengyu/dataPipe/data/MatSciInstruct.json\n",
      "None data path: /u01/mengpengyu/dataPipe/data/MatSciInstruct_none.json\n",
      "Total number of data points: 2307\n",
      "Total number of data points with None in 'answer': 471\n"
     ]
    }
   ],
   "source": [
    "%load_ext autoreload\n",
    "%autoreload 2\n",
    "\n",
    "import json5\n",
    "import os\n",
    "if \"__file__\" not in globals():\n",
    "    __file__ = os.path.abspath(\".\")\n",
    "print(\"Running in file:\", __file__)\n",
    "none_data_path=os.path.join(__file__, 'data','MatSciInstruct_none.json')\n",
    "data_path=os.path.join(__file__,'data', 'MatSciInstruct.json')\n",
    "print(\"Data path:\", data_path)\n",
    "print(\"None data path:\", none_data_path)\n",
    "with open(data_path, 'r') as f:\n",
    "    # Load the JSON5 data from the file\n",
    "    data= json5.load(f)\n",
    "with open(none_data_path, 'r') as f:\n",
    "    # Load the JSON5 data from the file\n",
    "    none_data= json5.load(f)\n",
    "\n",
    "print(\"Total number of data points:\", len(data))\n",
    "print(\"Total number of data points with None in 'answer':\", len(none_data))"
   ]
  },
  {
   "cell_type": "markdown",
   "id": "006fa5f5",
   "metadata": {},
   "source": [
    "### 翻译部分问题，用于人工判别"
   ]
  },
  {
   "cell_type": "code",
   "execution_count": null,
   "id": "2e2f77ea",
   "metadata": {},
   "outputs": [],
   "source": [
    "# from deep_translator import BaiduTranslator\n",
    "# import json\n",
    "\n",
    "# # 创建翻译器并进行翻译\n",
    "# translator = BaiduTranslator(source='en', \n",
    "#                                   target='zh',\n",
    "#                                   appid=\"20200702000511635\",\n",
    "#                                   appkey='QkuPegRc_zjsNH0Ytn52'\n",
    "#                                   )\n",
    "# # 翻译问题，存储到一个json文件中，后续方便查找\n",
    "# translate_path=os.path.join(__file__, 'data','MatSciInstruct_translate.json')\n",
    "# translate_list = []\n",
    "# i=0\n",
    "# for signal_data in data[:200]:\n",
    "#     raw_problem = signal_data['metadata']['instruction']\n",
    "#     translated_problem = translator.translate(raw_problem)\n",
    "#     data_id = signal_data['id']\n",
    "#     translate_list.append({\n",
    "#         \"id\": data_id,\n",
    "#         \"raw_problem\": raw_problem,\n",
    "#         \"translated_problem\": translated_problem\n",
    "#     })\n",
    "#     if i % 10 == 0:\n",
    "#         print(f\"Translated {i} problems\")\n",
    "#     i+=1\n",
    "# print(\"Translated problems:\", translate_list)\n",
    "# with open(translate_path, 'w') as f:\n",
    "#     json.dump(translate_list, f, indent=4, ensure_ascii=False)"
   ]
  },
  {
   "cell_type": "code",
   "execution_count": null,
   "id": "73906027",
   "metadata": {},
   "outputs": [
    {
     "name": "stdout",
     "output_type": "stream",
     "text": [
      "\n",
      "\n",
      "{\n",
      "  \"id\": \"738abd95be987a0f02e0675d3f3387b1\",\n",
      "  \"category\": \"KNOWLEDGE\",\n",
      "  \"reason\": \"依据标准2.1，该问题要求从提供的上下文(input字段)中提取研究的推论，答案可直接从原文中找到。\"\n",
      "}\n",
      "raw problem: What is the corollary of the study?\n",
      "translated problem: 这项研究的推论是什么？\n",
      "\n",
      "\n",
      "{\n",
      "  \"id\": \"5c65bef00762816a5d9de9ecf98b3bf2\",\n",
      "  \"category\": \"KNOWLEDGE\",\n",
      "  \"reason\": \"依据标准2.1，答案可以直接从提供的上下文(input字段)中提取找到关于x=0.2时Eu价态的具体描述。\"\n",
      "}\n",
      "raw problem: What is the valence of Eu in EuPd$_2$(Si$_{1-x}$Ge$_x$)$_2$ for x = 0.2?\n",
      "translated problem: 当x=0.2时，EuPd$_2$（Si$_{1-x}$Ge$_x$）$_2$中Eu的化合价是多少？\n",
      "\n",
      "\n",
      "{\n",
      "  \"id\": \"f744adc51d773be28622ac121c2519b7\",\n",
      "  \"category\": \"REASONING\",\n",
      "  \"reason\": \"依据标准3.1，该问题要求对药物发现过程的多个阶段进行组织和归纳，形成连贯的概述，需要对信息进行处理和组织。\"\n",
      "}\n",
      "raw problem: Write a brief overview of the drug discovery process.\n",
      "translated problem: 简要概述药物发现过程。\n",
      "\n",
      "\n",
      "{\n",
      "  \"id\": \"fb09b712b74a13f2fcae4405e22084fe\",\n",
      "  \"category\": \"KNOWLEDGE\",\n",
      "  \"reason\": \"依据标准2.1，该问题要求从提供的上下文(input字段)中提取引入子系统Arf不变量的动机，答案可直接概括得出。\"\n",
      "}\n",
      "raw problem: What is the motivation for introducing the subsystem Arf invariant?\n",
      "translated problem: 引入子系统Arf不变量的动机是什么？\n",
      "\n",
      "\n",
      "{\n",
      "  \"id\": \"e0ec17710f199f876c5b553f18ba2134\",\n",
      "  \"category\": \"KNOWLEDGE\",\n",
      "  \"reason\": \"依据标准2.1，答案可以直接从提供的上下文(input字段)中提取找到，即输入中明确提到的三个不变量：相关维数(𝒟)、相关熵(𝒦)和相关集中度(𝒜)。\"\n",
      "}\n",
      "raw problem: What are the three invariants that determine the scaling behaviour of the system's R\\'{e}nyi-type extended entropy?\n",
      "translated problem: 决定系统R的缩放行为的三个不变量是什么{e}nyi-type扩展熵？\n"
     ]
    }
   ],
   "source": [
    "# data[0:10]\n",
    "translate_path=os.path.join(__file__, 'data','MatSciInstruct_translate.json')\n",
    "with open(translate_path, 'r') as f:\n",
    "    # Load the JSON5 data from the file\n",
    "    translate_data= json5.load(f)\n",
    "from model import call_openai,call_huoshan\n",
    "prompt_path=os.path.join(__file__, 'prompts','division.txt')\n",
    "with open(prompt_path, 'r') as f:\n",
    "    raw_prompt = f.read()\n",
    "end=5\n",
    "import concurrent.futures\n",
    "from concurrent.futures import ThreadPoolExecutor\n",
    "for signal_data, trans_problem in zip(data[0:end], translate_data[0:end]):\n",
    "    data_id = signal_data['id']\n",
    "    input_data = {key: signal_data[key] for key in ['id', 'metadata']}\n",
    "    prompt = raw_prompt.replace(\"{}\",str(input_data))\n",
    "    _ ,content=call_huoshan(prompt,'doubao')\n",
    "    print(content)\n",
    "    print(f\"raw problem: {trans_problem['raw_problem']}\")\n",
    "    print(f\"translated problem: {trans_problem['translated_problem']}\")\n",
    "    "
   ]
  }
 ],
 "metadata": {
  "kernelspec": {
   "display_name": "d2l",
   "language": "python",
   "name": "python3"
  },
  "language_info": {
   "codemirror_mode": {
    "name": "ipython",
    "version": 3
   },
   "file_extension": ".py",
   "mimetype": "text/x-python",
   "name": "python",
   "nbconvert_exporter": "python",
   "pygments_lexer": "ipython3",
   "version": "3.10.16"
  }
 },
 "nbformat": 4,
 "nbformat_minor": 5
}
